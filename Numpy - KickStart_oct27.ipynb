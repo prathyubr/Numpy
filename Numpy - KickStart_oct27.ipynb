{
 "cells": [
  {
   "cell_type": "markdown",
   "id": "6bd81224",
   "metadata": {},
   "source": [
    "## Why Numpy?\n",
    "\n",
    "#### Is used for performing numerical operations like array addition, subtraction, multiplication, to create some random numbers, create dummy values, etc.,"
   ]
  },
  {
   "cell_type": "code",
   "execution_count": 1,
   "id": "04466ce7",
   "metadata": {},
   "outputs": [
    {
     "name": "stdout",
     "output_type": "stream",
     "text": [
      "Requirement already satisfied: numpy in c:\\users\\x1 yoga\\appdata\\roaming\\python\\python38\\site-packages (1.19.5)\n"
     ]
    }
   ],
   "source": [
    "!pip install numpy"
   ]
  },
  {
   "cell_type": "code",
   "execution_count": 2,
   "id": "aeb57327",
   "metadata": {},
   "outputs": [],
   "source": [
    "import numpy as np"
   ]
  },
  {
   "cell_type": "code",
   "execution_count": 4,
   "id": "4ad163d7",
   "metadata": {},
   "outputs": [
    {
     "data": {
      "text/plain": [
       "list"
      ]
     },
     "execution_count": 4,
     "metadata": {},
     "output_type": "execute_result"
    }
   ],
   "source": [
    "a = [1,2,3,4,5]\n",
    "type(a)"
   ]
  },
  {
   "cell_type": "code",
   "execution_count": 3,
   "id": "2bbdfe07",
   "metadata": {},
   "outputs": [
    {
     "data": {
      "text/plain": [
       "array([1, 2, 3, 4, 5])"
      ]
     },
     "execution_count": 3,
     "metadata": {},
     "output_type": "execute_result"
    }
   ],
   "source": [
    "np.array(object = [1,2,3,4,5], dtype=None)"
   ]
  },
  {
   "cell_type": "markdown",
   "id": "e4c62c61",
   "metadata": {},
   "source": [
    "### List Vs Array\n",
    "\n",
    "\n",
    "###### 1. In List we cannot do element-wise operation but in Arrays we can.\n",
    "###### 2. Array to List conversion is possible and also List to Array conversion is also possible but we will lose the dimensions.\n",
    "###### 3. List is heterogenous datatype but Numpy is a homogenous datatype."
   ]
  },
  {
   "cell_type": "markdown",
   "id": "2222f9e4",
   "metadata": {},
   "source": [
    "#### 1D Array"
   ]
  },
  {
   "cell_type": "code",
   "execution_count": 26,
   "id": "3d309c79",
   "metadata": {},
   "outputs": [
    {
     "name": "stdout",
     "output_type": "stream",
     "text": [
      "[ 1  2 10  4  5]\n",
      "<class 'numpy.ndarray'>\n",
      "No of dimension             : 1\n",
      "No of elements              : 5\n",
      "Index of the maximum number : 2\n"
     ]
    }
   ],
   "source": [
    "arr_1 = np.array([1,2,10,4,5])\n",
    "print(arr_1)\n",
    "print(type(arr_1))\n",
    "print('No of dimension             :',arr_1.ndim)\n",
    "print('No of elements              :',arr_1.size)\n",
    "print('Index of the maximum number :',arr_1.argmax())"
   ]
  },
  {
   "cell_type": "code",
   "execution_count": 24,
   "id": "91fff2ab",
   "metadata": {},
   "outputs": [],
   "source": [
    "arr_1.fill(7)"
   ]
  },
  {
   "cell_type": "code",
   "execution_count": 25,
   "id": "9be86ce6",
   "metadata": {},
   "outputs": [
    {
     "data": {
      "text/plain": [
       "array([7, 7, 7, 7, 7])"
      ]
     },
     "execution_count": 25,
     "metadata": {},
     "output_type": "execute_result"
    }
   ],
   "source": [
    "arr_1"
   ]
  },
  {
   "cell_type": "code",
   "execution_count": 27,
   "id": "9660fa97",
   "metadata": {},
   "outputs": [
    {
     "data": {
      "text/plain": [
       "array([ 1,  1,  1,  1,  1,  1,  1,  1,  1,  1,  1,  1,  1,  1,  1,  1,  1,\n",
       "        1,  1,  1,  2,  2,  2,  2,  2,  2,  2,  2,  2,  2,  2,  2,  2,  2,\n",
       "        2,  2,  2,  2,  2,  2, 10, 10, 10, 10, 10, 10, 10, 10, 10, 10, 10,\n",
       "       10, 10, 10, 10, 10, 10, 10, 10, 10,  4,  4,  4,  4,  4,  4,  4,  4,\n",
       "        4,  4,  4,  4,  4,  4,  4,  4,  4,  4,  4,  4,  5,  5,  5,  5,  5,\n",
       "        5,  5,  5,  5,  5,  5,  5,  5,  5,  5,  5,  5,  5,  5,  5])"
      ]
     },
     "execution_count": 27,
     "metadata": {},
     "output_type": "execute_result"
    }
   ],
   "source": [
    "arr_1.repeat(repeats = 20, axis=None)"
   ]
  },
  {
   "cell_type": "code",
   "execution_count": 29,
   "id": "ef585ab6",
   "metadata": {},
   "outputs": [
    {
     "data": {
      "text/plain": [
       "array([ 3,  4, 12,  6,  7])"
      ]
     },
     "execution_count": 29,
     "metadata": {},
     "output_type": "execute_result"
    }
   ],
   "source": [
    "arr_1 + 2"
   ]
  },
  {
   "cell_type": "markdown",
   "id": "c3881249",
   "metadata": {},
   "source": [
    "#### Create List and understand the differences"
   ]
  },
  {
   "cell_type": "code",
   "execution_count": 21,
   "id": "982fc7dc",
   "metadata": {},
   "outputs": [
    {
     "data": {
      "text/plain": [
       "[4, 5, 6, 7, 8, 9]"
      ]
     },
     "execution_count": 21,
     "metadata": {},
     "output_type": "execute_result"
    }
   ],
   "source": [
    "list_1 = [4,5,6,7,8,9]\n",
    "list_1"
   ]
  },
  {
   "cell_type": "code",
   "execution_count": 19,
   "id": "a12a5385",
   "metadata": {},
   "outputs": [],
   "source": [
    "list_1.append([13,14])"
   ]
  },
  {
   "cell_type": "code",
   "execution_count": 20,
   "id": "3098a7bc",
   "metadata": {},
   "outputs": [
    {
     "data": {
      "text/plain": [
       "[4, 5, 6, 7, 8, 9, [13, 14]]"
      ]
     },
     "execution_count": 20,
     "metadata": {},
     "output_type": "execute_result"
    }
   ],
   "source": [
    "list_1"
   ]
  },
  {
   "cell_type": "code",
   "execution_count": 22,
   "id": "9ce48cb5",
   "metadata": {},
   "outputs": [],
   "source": [
    "list_1.extend([13,14])"
   ]
  },
  {
   "cell_type": "code",
   "execution_count": 23,
   "id": "0cdc41fe",
   "metadata": {},
   "outputs": [
    {
     "data": {
      "text/plain": [
       "[4, 5, 6, 7, 8, 9, 13, 14]"
      ]
     },
     "execution_count": 23,
     "metadata": {},
     "output_type": "execute_result"
    }
   ],
   "source": [
    "list_1"
   ]
  },
  {
   "cell_type": "code",
   "execution_count": 30,
   "id": "94885444",
   "metadata": {},
   "outputs": [
    {
     "ename": "TypeError",
     "evalue": "can only concatenate list (not \"int\") to list",
     "output_type": "error",
     "traceback": [
      "\u001b[1;31m---------------------------------------------------------------------------\u001b[0m",
      "\u001b[1;31mTypeError\u001b[0m                                 Traceback (most recent call last)",
      "\u001b[1;32m<ipython-input-30-96eba2856cc7>\u001b[0m in \u001b[0;36m<module>\u001b[1;34m\u001b[0m\n\u001b[1;32m----> 1\u001b[1;33m \u001b[0mlist_1\u001b[0m \u001b[1;33m+\u001b[0m \u001b[1;36m2\u001b[0m\u001b[1;33m\u001b[0m\u001b[1;33m\u001b[0m\u001b[0m\n\u001b[0m",
      "\u001b[1;31mTypeError\u001b[0m: can only concatenate list (not \"int\") to list"
     ]
    }
   ],
   "source": [
    "list_1 + 2"
   ]
  },
  {
   "cell_type": "markdown",
   "id": "6a4b5e3f",
   "metadata": {},
   "source": [
    "#### Create a 2d array"
   ]
  },
  {
   "cell_type": "code",
   "execution_count": 96,
   "id": "c0972119",
   "metadata": {},
   "outputs": [
    {
     "name": "stdout",
     "output_type": "stream",
     "text": [
      "[[1 2 3]\n",
      " [2 3 4]]\n",
      "No of dimensions : 2\n"
     ]
    }
   ],
   "source": [
    "arr_2 = np.array([[1,2,3],[2,3,4]])\n",
    "print(arr_2)\n",
    "print('No of dimensions :',arr_2.ndim)"
   ]
  },
  {
   "cell_type": "markdown",
   "id": "63184f42",
   "metadata": {},
   "source": [
    "#### Create a 3d array"
   ]
  },
  {
   "cell_type": "code",
   "execution_count": 40,
   "id": "6657e71d",
   "metadata": {},
   "outputs": [
    {
     "name": "stdout",
     "output_type": "stream",
     "text": [
      "[[[1 2 3]\n",
      "  [4 5 6]\n",
      "  [7 8 9]]]\n",
      "No of dimensions : 3\n"
     ]
    }
   ],
   "source": [
    "arr_3 = np.array([[[1,2,3],[4,5,6],[7,8,9]]])\n",
    "print(arr_3)\n",
    "print('No of dimensions :',arr_3.ndim)"
   ]
  },
  {
   "cell_type": "markdown",
   "id": "049111a1",
   "metadata": {},
   "source": [
    "#### Convert int to float"
   ]
  },
  {
   "cell_type": "code",
   "execution_count": 49,
   "id": "54ea6f15",
   "metadata": {},
   "outputs": [
    {
     "data": {
      "text/plain": [
       "array([[[1., 2., 3.],\n",
       "        [4., 5., 6.],\n",
       "        [7., 8., 9.]]])"
      ]
     },
     "execution_count": 49,
     "metadata": {},
     "output_type": "execute_result"
    }
   ],
   "source": [
    "arr_3_float = arr_3.astype(dtype = 'float')\n",
    "arr_3_float"
   ]
  },
  {
   "cell_type": "code",
   "execution_count": 50,
   "id": "6375e892",
   "metadata": {},
   "outputs": [
    {
     "data": {
      "text/plain": [
       "dtype('float64')"
      ]
     },
     "execution_count": 50,
     "metadata": {},
     "output_type": "execute_result"
    }
   ],
   "source": [
    "arr_3_float.dtype"
   ]
  },
  {
   "cell_type": "markdown",
   "id": "94b551d6",
   "metadata": {},
   "source": [
    "### List to Array Conversion"
   ]
  },
  {
   "cell_type": "code",
   "execution_count": 58,
   "id": "eeb3f6a8",
   "metadata": {},
   "outputs": [
    {
     "name": "stdout",
     "output_type": "stream",
     "text": [
      "<class 'list'>\n",
      "[[1 2 3 4]\n",
      " [4 5 7 8]]\n",
      "<class 'numpy.ndarray'>\n",
      "No of dimensions :  2\n"
     ]
    }
   ],
   "source": [
    "list_2 = [[1,2,3,4],[4,5,7,8,]]\n",
    "print(type(list_2))\n",
    "\n",
    "#List to Array\n",
    "list_2_arr = np.array(list_2)\n",
    "print(list_2_arr)\n",
    "\n",
    "print(type(list_2_arr))\n",
    "print('No of dimensions : ',list_2_arr.ndim)"
   ]
  },
  {
   "cell_type": "markdown",
   "id": "9ec1b7d6",
   "metadata": {},
   "source": [
    "### Array to List Conversion"
   ]
  },
  {
   "cell_type": "code",
   "execution_count": 61,
   "id": "e9b86e71",
   "metadata": {},
   "outputs": [
    {
     "data": {
      "text/plain": [
       "[[1, 2, 3, 4], [4, 5, 7, 8]]"
      ]
     },
     "execution_count": 61,
     "metadata": {},
     "output_type": "execute_result"
    }
   ],
   "source": [
    "arr_2_list = list_2_arr.tolist()\n",
    "arr_2_list"
   ]
  },
  {
   "cell_type": "markdown",
   "id": "a061d3a1",
   "metadata": {},
   "source": [
    "### Import data using pandas"
   ]
  },
  {
   "cell_type": "code",
   "execution_count": 62,
   "id": "485d4115",
   "metadata": {},
   "outputs": [
    {
     "data": {
      "text/html": [
       "<div>\n",
       "<style scoped>\n",
       "    .dataframe tbody tr th:only-of-type {\n",
       "        vertical-align: middle;\n",
       "    }\n",
       "\n",
       "    .dataframe tbody tr th {\n",
       "        vertical-align: top;\n",
       "    }\n",
       "\n",
       "    .dataframe thead th {\n",
       "        text-align: right;\n",
       "    }\n",
       "</style>\n",
       "<table border=\"1\" class=\"dataframe\">\n",
       "  <thead>\n",
       "    <tr style=\"text-align: right;\">\n",
       "      <th></th>\n",
       "      <th>Name</th>\n",
       "      <th>Age</th>\n",
       "      <th>Salary</th>\n",
       "    </tr>\n",
       "  </thead>\n",
       "  <tbody>\n",
       "    <tr>\n",
       "      <th>0</th>\n",
       "      <td>Ram</td>\n",
       "      <td>30.0</td>\n",
       "      <td>80000</td>\n",
       "    </tr>\n",
       "    <tr>\n",
       "      <th>1</th>\n",
       "      <td>Vinoth</td>\n",
       "      <td>32.0</td>\n",
       "      <td>120000</td>\n",
       "    </tr>\n",
       "    <tr>\n",
       "      <th>2</th>\n",
       "      <td>Ishwarya</td>\n",
       "      <td>NaN</td>\n",
       "      <td>70000</td>\n",
       "    </tr>\n",
       "    <tr>\n",
       "      <th>3</th>\n",
       "      <td>Shadab</td>\n",
       "      <td>27.0</td>\n",
       "      <td>60000</td>\n",
       "    </tr>\n",
       "  </tbody>\n",
       "</table>\n",
       "</div>"
      ],
      "text/plain": [
       "       Name   Age  Salary\n",
       "0       Ram  30.0   80000\n",
       "1    Vinoth  32.0  120000\n",
       "2  Ishwarya   NaN   70000\n",
       "3    Shadab  27.0   60000"
      ]
     },
     "execution_count": 62,
     "metadata": {},
     "output_type": "execute_result"
    }
   ],
   "source": [
    "import pandas as pd\n",
    "pd.read_csv('dummy_data.csv')"
   ]
  },
  {
   "cell_type": "markdown",
   "id": "d0964755",
   "metadata": {},
   "source": [
    "#### Create Nan using numpy"
   ]
  },
  {
   "cell_type": "code",
   "execution_count": 78,
   "id": "167c6bfe",
   "metadata": {},
   "outputs": [
    {
     "data": {
      "text/plain": [
       "array([[1., 2., 3.],\n",
       "       [4., 5., 6.]])"
      ]
     },
     "execution_count": 78,
     "metadata": {},
     "output_type": "execute_result"
    }
   ],
   "source": [
    "arr = np.array([[1.,2,3],[4,5,6]])\n",
    "arr"
   ]
  },
  {
   "cell_type": "code",
   "execution_count": 76,
   "id": "ec68de61",
   "metadata": {},
   "outputs": [],
   "source": [
    "arr[0][1] = np.nan"
   ]
  },
  {
   "cell_type": "code",
   "execution_count": 77,
   "id": "5394a3d5",
   "metadata": {},
   "outputs": [
    {
     "data": {
      "text/plain": [
       "array([[ 1., nan,  3.],\n",
       "       [ 4.,  5.,  6.]])"
      ]
     },
     "execution_count": 77,
     "metadata": {},
     "output_type": "execute_result"
    }
   ],
   "source": [
    "arr"
   ]
  },
  {
   "cell_type": "markdown",
   "id": "ff0a2f53",
   "metadata": {},
   "source": [
    "### Statistical Operation with Numpy"
   ]
  },
  {
   "cell_type": "code",
   "execution_count": 81,
   "id": "535e8dbb",
   "metadata": {},
   "outputs": [
    {
     "data": {
      "text/plain": [
       "array([ 1,  2,  3,  4,  5,  6,  7,  8,  9, 10])"
      ]
     },
     "execution_count": 81,
     "metadata": {},
     "output_type": "execute_result"
    }
   ],
   "source": [
    "arr_4 = np.array([1,2,3,4,5,6,7,8,9,10])\n",
    "arr_4"
   ]
  },
  {
   "cell_type": "code",
   "execution_count": 82,
   "id": "45e9a64e",
   "metadata": {},
   "outputs": [
    {
     "data": {
      "text/plain": [
       "5.5"
      ]
     },
     "execution_count": 82,
     "metadata": {},
     "output_type": "execute_result"
    }
   ],
   "source": [
    "np.mean(arr_4) #Average"
   ]
  },
  {
   "cell_type": "code",
   "execution_count": 83,
   "id": "77942a0e",
   "metadata": {},
   "outputs": [
    {
     "data": {
      "text/plain": [
       "5.5"
      ]
     },
     "execution_count": 83,
     "metadata": {},
     "output_type": "execute_result"
    }
   ],
   "source": [
    "np.median(arr_4) #Middle"
   ]
  },
  {
   "cell_type": "code",
   "execution_count": 84,
   "id": "a6f80481",
   "metadata": {},
   "outputs": [
    {
     "data": {
      "text/plain": [
       "2.8722813232690143"
      ]
     },
     "execution_count": 84,
     "metadata": {},
     "output_type": "execute_result"
    }
   ],
   "source": [
    "arr_4.std() #how well the data points got deviated from the mean"
   ]
  },
  {
   "cell_type": "code",
   "execution_count": 85,
   "id": "a3c5e3e8",
   "metadata": {},
   "outputs": [
    {
     "data": {
      "text/plain": [
       "55"
      ]
     },
     "execution_count": 85,
     "metadata": {},
     "output_type": "execute_result"
    }
   ],
   "source": [
    "arr_4.sum()"
   ]
  },
  {
   "cell_type": "markdown",
   "id": "b4f38bbd",
   "metadata": {},
   "source": [
    "### Reshape using Numpy"
   ]
  },
  {
   "cell_type": "code",
   "execution_count": 97,
   "id": "93132fe3",
   "metadata": {},
   "outputs": [
    {
     "name": "stdout",
     "output_type": "stream",
     "text": [
      "[[1 2 3]\n",
      " [2 3 4]]\n",
      "No of dimensions :  2\n",
      "Shape            :  (2, 3)\n"
     ]
    }
   ],
   "source": [
    "print(arr_2)\n",
    "print('No of dimensions : ',arr_2.ndim)\n",
    "print('Shape            : ',arr_2.shape)"
   ]
  },
  {
   "cell_type": "code",
   "execution_count": 93,
   "id": "2d97a23f",
   "metadata": {},
   "outputs": [
    {
     "name": "stdout",
     "output_type": "stream",
     "text": [
      "[[1 2]\n",
      " [3 2]\n",
      " [3 4]]\n",
      "No of dimensions :  2\n",
      "Shape            :  (3, 2)\n"
     ]
    }
   ],
   "source": [
    "arr_2 = arr_2.reshape(3,2)\n",
    "print(arr_2)\n",
    "print('No of dimensions : ',arr_2.ndim)\n",
    "print('Shape            : ',arr_2.shape)"
   ]
  },
  {
   "cell_type": "code",
   "execution_count": 94,
   "id": "2d2c2cd0",
   "metadata": {},
   "outputs": [
    {
     "name": "stdout",
     "output_type": "stream",
     "text": [
      "[[1 2 3 2 3 4]]\n",
      "No of dimensions :  2\n",
      "Shape            :  (1, 6)\n"
     ]
    }
   ],
   "source": [
    "arr_2 = arr_2.reshape(1,6)\n",
    "print(arr_2)\n",
    "print('No of dimensions : ',arr_2.ndim)\n",
    "print('Shape            : ',arr_2.shape)"
   ]
  },
  {
   "cell_type": "markdown",
   "id": "0d4c65d3",
   "metadata": {},
   "source": [
    "### Convert n-dim to 1d"
   ]
  },
  {
   "cell_type": "code",
   "execution_count": 101,
   "id": "ba31ca7a",
   "metadata": {},
   "outputs": [
    {
     "data": {
      "text/plain": [
       "array([[[1, 2, 3],\n",
       "        [4, 5, 6],\n",
       "        [7, 8, 9]]])"
      ]
     },
     "execution_count": 101,
     "metadata": {},
     "output_type": "execute_result"
    }
   ],
   "source": [
    "arr_3"
   ]
  },
  {
   "cell_type": "code",
   "execution_count": 102,
   "id": "0a937e44",
   "metadata": {},
   "outputs": [
    {
     "name": "stdout",
     "output_type": "stream",
     "text": [
      "3\n"
     ]
    }
   ],
   "source": [
    "print(arr_3.ndim)"
   ]
  },
  {
   "cell_type": "code",
   "execution_count": 100,
   "id": "acb5744f",
   "metadata": {},
   "outputs": [
    {
     "name": "stdout",
     "output_type": "stream",
     "text": [
      "[1 2 3 2 3 4]\n",
      "No of dimensions :  1\n"
     ]
    }
   ],
   "source": [
    "n_dim_to_1dim = arr_2.flatten()\n",
    "print(n_dim_to_1dim)\n",
    "print('No of dimensions : ',n_dim_to_1dim.ndim)"
   ]
  },
  {
   "cell_type": "code",
   "execution_count": 103,
   "id": "ee32a5d3",
   "metadata": {},
   "outputs": [
    {
     "name": "stdout",
     "output_type": "stream",
     "text": [
      "[1 2 3 4 5 6 7 8 9]\n",
      "No of dimensions :  1\n"
     ]
    }
   ],
   "source": [
    "n_dim_to_1dim = arr_3.flatten()\n",
    "print(n_dim_to_1dim)\n",
    "print('No of dimensions : ',n_dim_to_1dim.ndim)"
   ]
  },
  {
   "cell_type": "markdown",
   "id": "b8d0395a",
   "metadata": {},
   "source": [
    "### Sequencing,Repetition and Random numbers"
   ]
  },
  {
   "cell_type": "code",
   "execution_count": 108,
   "id": "b1a79a40",
   "metadata": {},
   "outputs": [
    {
     "data": {
      "text/plain": [
       "array([ 1.,  3.,  5.,  7.,  9., 11., 13., 15., 17., 19.])"
      ]
     },
     "execution_count": 108,
     "metadata": {},
     "output_type": "execute_result"
    }
   ],
   "source": [
    "np.arange(1,21,2,dtype='float')"
   ]
  },
  {
   "cell_type": "code",
   "execution_count": 109,
   "id": "c45684d5",
   "metadata": {},
   "outputs": [
    {
     "data": {
      "text/plain": [
       "array([ 1,  2,  3,  4,  5,  6,  7,  8,  9, 10, 11, 12, 13, 14, 15, 16, 17,\n",
       "       18, 19, 20])"
      ]
     },
     "execution_count": 109,
     "metadata": {},
     "output_type": "execute_result"
    }
   ],
   "source": [
    "np.arange(1,21,dtype='int')"
   ]
  },
  {
   "cell_type": "code",
   "execution_count": 110,
   "id": "68abba0d",
   "metadata": {},
   "outputs": [
    {
     "data": {
      "text/plain": [
       "array([ 10.        ,  14.73684211,  19.47368421,  24.21052632,\n",
       "        28.94736842,  33.68421053,  38.42105263,  43.15789474,\n",
       "        47.89473684,  52.63157895,  57.36842105,  62.10526316,\n",
       "        66.84210526,  71.57894737,  76.31578947,  81.05263158,\n",
       "        85.78947368,  90.52631579,  95.26315789, 100.        ])"
      ]
     },
     "execution_count": 110,
     "metadata": {},
     "output_type": "execute_result"
    }
   ],
   "source": [
    "np.linspace(start = 10,stop = 100,num=20) #Return evenly spaced numbers over a specified interval."
   ]
  },
  {
   "cell_type": "code",
   "execution_count": 114,
   "id": "79e163fe",
   "metadata": {},
   "outputs": [
    {
     "data": {
      "text/plain": [
       "array([[0., 0., 0., 0., 0.],\n",
       "       [0., 0., 0., 0., 0.],\n",
       "       [0., 0., 0., 0., 0.],\n",
       "       [0., 0., 0., 0., 0.],\n",
       "       [0., 0., 0., 0., 0.]])"
      ]
     },
     "execution_count": 114,
     "metadata": {},
     "output_type": "execute_result"
    }
   ],
   "source": [
    "np.zeros((5,5))"
   ]
  },
  {
   "cell_type": "code",
   "execution_count": 115,
   "id": "42788f23",
   "metadata": {},
   "outputs": [
    {
     "data": {
      "text/plain": [
       "array([[1., 1., 1., 1., 1., 1.],\n",
       "       [1., 1., 1., 1., 1., 1.],\n",
       "       [1., 1., 1., 1., 1., 1.]])"
      ]
     },
     "execution_count": 115,
     "metadata": {},
     "output_type": "execute_result"
    }
   ],
   "source": [
    "np.ones((3,6))"
   ]
  },
  {
   "cell_type": "code",
   "execution_count": 116,
   "id": "b7e957c7",
   "metadata": {},
   "outputs": [
    {
     "data": {
      "text/html": [
       "<div>\n",
       "<style scoped>\n",
       "    .dataframe tbody tr th:only-of-type {\n",
       "        vertical-align: middle;\n",
       "    }\n",
       "\n",
       "    .dataframe tbody tr th {\n",
       "        vertical-align: top;\n",
       "    }\n",
       "\n",
       "    .dataframe thead th {\n",
       "        text-align: right;\n",
       "    }\n",
       "</style>\n",
       "<table border=\"1\" class=\"dataframe\">\n",
       "  <thead>\n",
       "    <tr style=\"text-align: right;\">\n",
       "      <th></th>\n",
       "      <th>country</th>\n",
       "      <th>beer_servings</th>\n",
       "      <th>spirit_servings</th>\n",
       "      <th>wine_servings</th>\n",
       "      <th>total_litres_of_pure_alcohol</th>\n",
       "      <th>continent</th>\n",
       "    </tr>\n",
       "  </thead>\n",
       "  <tbody>\n",
       "    <tr>\n",
       "      <th>0</th>\n",
       "      <td>Afghanistan</td>\n",
       "      <td>0</td>\n",
       "      <td>0</td>\n",
       "      <td>0</td>\n",
       "      <td>0.0</td>\n",
       "      <td>AS</td>\n",
       "    </tr>\n",
       "    <tr>\n",
       "      <th>1</th>\n",
       "      <td>Albania</td>\n",
       "      <td>89</td>\n",
       "      <td>132</td>\n",
       "      <td>54</td>\n",
       "      <td>4.9</td>\n",
       "      <td>EU</td>\n",
       "    </tr>\n",
       "    <tr>\n",
       "      <th>2</th>\n",
       "      <td>Algeria</td>\n",
       "      <td>25</td>\n",
       "      <td>0</td>\n",
       "      <td>14</td>\n",
       "      <td>0.7</td>\n",
       "      <td>AF</td>\n",
       "    </tr>\n",
       "    <tr>\n",
       "      <th>3</th>\n",
       "      <td>Andorra</td>\n",
       "      <td>245</td>\n",
       "      <td>138</td>\n",
       "      <td>312</td>\n",
       "      <td>12.4</td>\n",
       "      <td>EU</td>\n",
       "    </tr>\n",
       "    <tr>\n",
       "      <th>4</th>\n",
       "      <td>Angola</td>\n",
       "      <td>217</td>\n",
       "      <td>57</td>\n",
       "      <td>45</td>\n",
       "      <td>5.9</td>\n",
       "      <td>AF</td>\n",
       "    </tr>\n",
       "    <tr>\n",
       "      <th>...</th>\n",
       "      <td>...</td>\n",
       "      <td>...</td>\n",
       "      <td>...</td>\n",
       "      <td>...</td>\n",
       "      <td>...</td>\n",
       "      <td>...</td>\n",
       "    </tr>\n",
       "    <tr>\n",
       "      <th>188</th>\n",
       "      <td>Venezuela</td>\n",
       "      <td>333</td>\n",
       "      <td>100</td>\n",
       "      <td>3</td>\n",
       "      <td>7.7</td>\n",
       "      <td>SA</td>\n",
       "    </tr>\n",
       "    <tr>\n",
       "      <th>189</th>\n",
       "      <td>Vietnam</td>\n",
       "      <td>111</td>\n",
       "      <td>2</td>\n",
       "      <td>1</td>\n",
       "      <td>2.0</td>\n",
       "      <td>AS</td>\n",
       "    </tr>\n",
       "    <tr>\n",
       "      <th>190</th>\n",
       "      <td>Yemen</td>\n",
       "      <td>6</td>\n",
       "      <td>0</td>\n",
       "      <td>0</td>\n",
       "      <td>0.1</td>\n",
       "      <td>AS</td>\n",
       "    </tr>\n",
       "    <tr>\n",
       "      <th>191</th>\n",
       "      <td>Zambia</td>\n",
       "      <td>32</td>\n",
       "      <td>19</td>\n",
       "      <td>4</td>\n",
       "      <td>2.5</td>\n",
       "      <td>AF</td>\n",
       "    </tr>\n",
       "    <tr>\n",
       "      <th>192</th>\n",
       "      <td>Zimbabwe</td>\n",
       "      <td>64</td>\n",
       "      <td>18</td>\n",
       "      <td>4</td>\n",
       "      <td>4.7</td>\n",
       "      <td>AF</td>\n",
       "    </tr>\n",
       "  </tbody>\n",
       "</table>\n",
       "<p>193 rows × 6 columns</p>\n",
       "</div>"
      ],
      "text/plain": [
       "         country  beer_servings  spirit_servings  wine_servings  \\\n",
       "0    Afghanistan              0                0              0   \n",
       "1        Albania             89              132             54   \n",
       "2        Algeria             25                0             14   \n",
       "3        Andorra            245              138            312   \n",
       "4         Angola            217               57             45   \n",
       "..           ...            ...              ...            ...   \n",
       "188    Venezuela            333              100              3   \n",
       "189      Vietnam            111                2              1   \n",
       "190        Yemen              6                0              0   \n",
       "191       Zambia             32               19              4   \n",
       "192     Zimbabwe             64               18              4   \n",
       "\n",
       "     total_litres_of_pure_alcohol continent  \n",
       "0                             0.0        AS  \n",
       "1                             4.9        EU  \n",
       "2                             0.7        AF  \n",
       "3                            12.4        EU  \n",
       "4                             5.9        AF  \n",
       "..                            ...       ...  \n",
       "188                           7.7        SA  \n",
       "189                           2.0        AS  \n",
       "190                           0.1        AS  \n",
       "191                           2.5        AF  \n",
       "192                           4.7        AF  \n",
       "\n",
       "[193 rows x 6 columns]"
      ]
     },
     "execution_count": 116,
     "metadata": {},
     "output_type": "execute_result"
    }
   ],
   "source": [
    "drinks_data = pd.read_csv('drinks.csv')\n",
    "drinks_data"
   ]
  },
  {
   "cell_type": "code",
   "execution_count": 121,
   "id": "3f4cf2ae",
   "metadata": {},
   "outputs": [
    {
     "data": {
      "text/plain": [
       "array([[1, 2, 3],\n",
       "       [2, 3, 4]])"
      ]
     },
     "execution_count": 121,
     "metadata": {},
     "output_type": "execute_result"
    }
   ],
   "source": [
    "arr_2"
   ]
  },
  {
   "cell_type": "code",
   "execution_count": 122,
   "id": "af3b9074",
   "metadata": {},
   "outputs": [
    {
     "data": {
      "text/plain": [
       "array([[1, 2, 3],\n",
       "       [1, 2, 3],\n",
       "       [1, 2, 3],\n",
       "       [1, 2, 3],\n",
       "       [1, 2, 3],\n",
       "       [1, 2, 3],\n",
       "       [1, 2, 3],\n",
       "       [1, 2, 3],\n",
       "       [1, 2, 3],\n",
       "       [1, 2, 3],\n",
       "       [1, 2, 3],\n",
       "       [1, 2, 3],\n",
       "       [1, 2, 3],\n",
       "       [1, 2, 3],\n",
       "       [1, 2, 3],\n",
       "       [1, 2, 3],\n",
       "       [1, 2, 3],\n",
       "       [1, 2, 3],\n",
       "       [1, 2, 3],\n",
       "       [1, 2, 3],\n",
       "       [1, 2, 3],\n",
       "       [1, 2, 3],\n",
       "       [1, 2, 3],\n",
       "       [1, 2, 3],\n",
       "       [1, 2, 3],\n",
       "       [1, 2, 3],\n",
       "       [1, 2, 3],\n",
       "       [1, 2, 3],\n",
       "       [1, 2, 3],\n",
       "       [1, 2, 3],\n",
       "       [1, 2, 3],\n",
       "       [1, 2, 3],\n",
       "       [1, 2, 3],\n",
       "       [1, 2, 3],\n",
       "       [1, 2, 3],\n",
       "       [1, 2, 3],\n",
       "       [1, 2, 3],\n",
       "       [1, 2, 3],\n",
       "       [1, 2, 3],\n",
       "       [1, 2, 3],\n",
       "       [1, 2, 3],\n",
       "       [1, 2, 3],\n",
       "       [1, 2, 3],\n",
       "       [1, 2, 3],\n",
       "       [1, 2, 3],\n",
       "       [1, 2, 3],\n",
       "       [1, 2, 3],\n",
       "       [1, 2, 3],\n",
       "       [1, 2, 3],\n",
       "       [1, 2, 3],\n",
       "       [2, 3, 4],\n",
       "       [2, 3, 4],\n",
       "       [2, 3, 4],\n",
       "       [2, 3, 4],\n",
       "       [2, 3, 4],\n",
       "       [2, 3, 4],\n",
       "       [2, 3, 4],\n",
       "       [2, 3, 4],\n",
       "       [2, 3, 4],\n",
       "       [2, 3, 4],\n",
       "       [2, 3, 4],\n",
       "       [2, 3, 4],\n",
       "       [2, 3, 4],\n",
       "       [2, 3, 4],\n",
       "       [2, 3, 4],\n",
       "       [2, 3, 4],\n",
       "       [2, 3, 4],\n",
       "       [2, 3, 4],\n",
       "       [2, 3, 4],\n",
       "       [2, 3, 4],\n",
       "       [2, 3, 4],\n",
       "       [2, 3, 4],\n",
       "       [2, 3, 4],\n",
       "       [2, 3, 4],\n",
       "       [2, 3, 4],\n",
       "       [2, 3, 4],\n",
       "       [2, 3, 4],\n",
       "       [2, 3, 4],\n",
       "       [2, 3, 4],\n",
       "       [2, 3, 4],\n",
       "       [2, 3, 4],\n",
       "       [2, 3, 4],\n",
       "       [2, 3, 4],\n",
       "       [2, 3, 4],\n",
       "       [2, 3, 4],\n",
       "       [2, 3, 4],\n",
       "       [2, 3, 4],\n",
       "       [2, 3, 4],\n",
       "       [2, 3, 4],\n",
       "       [2, 3, 4],\n",
       "       [2, 3, 4],\n",
       "       [2, 3, 4],\n",
       "       [2, 3, 4],\n",
       "       [2, 3, 4],\n",
       "       [2, 3, 4],\n",
       "       [2, 3, 4],\n",
       "       [2, 3, 4],\n",
       "       [2, 3, 4],\n",
       "       [2, 3, 4],\n",
       "       [2, 3, 4]])"
      ]
     },
     "execution_count": 122,
     "metadata": {},
     "output_type": "execute_result"
    }
   ],
   "source": [
    "arr_2.repeat(repeats = 50, axis=0)"
   ]
  },
  {
   "cell_type": "code",
   "execution_count": 130,
   "id": "9ffac66c",
   "metadata": {},
   "outputs": [
    {
     "data": {
      "text/plain": [
       "array([[0.91328573, 0.31117582, 0.35022056, 0.2276453 , 0.06306296,\n",
       "        0.96879698, 0.91080157, 0.4028786 , 0.10741319, 0.41040905],\n",
       "       [0.0351166 , 0.89995104, 0.37141498, 0.60846493, 0.90907518,\n",
       "        0.12755838, 0.72832301, 0.81236611, 0.60411427, 0.47230598],\n",
       "       [0.1192389 , 0.76819849, 0.07888186, 0.62346615, 0.57239746,\n",
       "        0.319654  , 0.82777097, 0.31863142, 0.65611146, 0.95517792],\n",
       "       [0.40724303, 0.03423385, 0.48235133, 0.21788347, 0.24770148,\n",
       "        0.49706201, 0.50738398, 0.43856257, 0.95919476, 0.06713995],\n",
       "       [0.55858813, 0.63099585, 0.7314548 , 0.90736366, 0.28022045,\n",
       "        0.61225335, 0.32637046, 0.37047924, 0.18936365, 0.38141677],\n",
       "       [0.89555418, 0.07087142, 0.76248604, 0.53415911, 0.2188588 ,\n",
       "        0.05438237, 0.29693861, 0.02250346, 0.6956507 , 0.17551214],\n",
       "       [0.60827334, 0.70064401, 0.22626449, 0.13199751, 0.57093123,\n",
       "        0.55363336, 0.82202314, 0.48795229, 0.06068393, 0.70257859],\n",
       "       [0.47678321, 0.02268525, 0.16886166, 0.82311743, 0.53327912,\n",
       "        0.75824405, 0.09917112, 0.29274895, 0.66250021, 0.99924399],\n",
       "       [0.69724768, 0.05019265, 0.5024642 , 0.70100827, 0.96847097,\n",
       "        0.32270259, 0.07270368, 0.21009776, 0.07154636, 0.56651338],\n",
       "       [0.47527807, 0.78455164, 0.69900028, 0.30794854, 0.06630879,\n",
       "        0.16057288, 0.41984283, 0.31390836, 0.80701384, 0.79297115]])"
      ]
     },
     "execution_count": 130,
     "metadata": {},
     "output_type": "execute_result"
    }
   ],
   "source": [
    "#Generate some random numbers\n",
    "random_numbers = np.random.rand(10,10) # 0 and 1\n",
    "random_numbers"
   ]
  },
  {
   "cell_type": "code",
   "execution_count": 127,
   "id": "56d6cf01",
   "metadata": {},
   "outputs": [],
   "source": [
    "import matplotlib.pyplot as plt"
   ]
  },
  {
   "cell_type": "code",
   "execution_count": 131,
   "id": "0ea04032",
   "metadata": {},
   "outputs": [
    {
     "data": {
      "image/png": "[encoded data removed]",
      "text/plain": [
       "<Figure size 432x288 with 1 Axes>"
      ]
     },
     "metadata": {
      "needs_background": "light"
     },
     "output_type": "display_data"
    }
   ],
   "source": [
    "#To understand the distribution of continous data\n",
    "plt.hist(random_numbers)\n",
    "plt.show()"
   ]
  },
  {
   "cell_type": "code",
   "execution_count": 147,
   "id": "d00d5eb4",
   "metadata": {},
   "outputs": [
    {
     "data": {
      "text/plain": [
       "array([[-4.16757847e-01, -5.62668272e-02, -2.13619610e+00,\n",
       "         1.64027081e+00, -1.79343559e+00, -8.41747366e-01,\n",
       "         5.02881417e-01, -1.24528809e+00, -1.05795222e+00,\n",
       "        -9.09007615e-01],\n",
       "       [ 5.51454045e-01,  2.29220801e+00,  4.15393930e-02,\n",
       "        -1.11792545e+00,  5.39058321e-01, -5.96159700e-01,\n",
       "        -1.91304965e-02,  1.17500122e+00, -7.47870949e-01,\n",
       "         9.02525097e-03],\n",
       "       [-8.78107893e-01, -1.56434170e-01,  2.56570452e-01,\n",
       "        -9.88779049e-01, -3.38821966e-01, -2.36184031e-01,\n",
       "        -6.37655012e-01, -1.18761229e+00, -1.42121723e+00,\n",
       "        -1.53495196e-01],\n",
       "       [-2.69056960e-01,  2.23136679e+00, -2.43476758e+00,\n",
       "         1.12726505e-01,  3.70444537e-01,  1.35963386e+00,\n",
       "         5.01857207e-01, -8.44213704e-01,  9.76147160e-06,\n",
       "         5.42352572e-01],\n",
       "       [-3.13508197e-01,  7.71011738e-01, -1.86809065e+00,\n",
       "         1.73118467e+00,  1.46767801e+00, -3.35677339e-01,\n",
       "         6.11340780e-01,  4.79705919e-02, -8.29135289e-01,\n",
       "         8.77102184e-02],\n",
       "       [ 1.00036589e+00, -3.81092518e-01, -3.75669423e-01,\n",
       "        -7.44707629e-02,  4.33496330e-01,  1.27837923e+00,\n",
       "        -6.34679305e-01,  5.08396243e-01,  2.16116006e-01,\n",
       "        -1.85861239e+00],\n",
       "       [-4.19316482e-01, -1.32328898e-01, -3.95702397e-02,\n",
       "         3.26003433e-01, -2.04032305e+00,  4.62555231e-02,\n",
       "        -6.77675577e-01, -1.43943903e+00,  5.24296430e-01,\n",
       "         7.35279576e-01],\n",
       "       [-6.53250268e-01,  8.42456282e-01, -3.81516482e-01,\n",
       "         6.64890091e-02, -1.09873895e+00,  1.58448706e+00,\n",
       "        -2.65944946e+00, -9.14526229e-02,  6.95119605e-01,\n",
       "        -2.03346655e+00],\n",
       "       [-1.89469265e-01, -7.72186654e-02,  8.24703005e-01,\n",
       "         1.24821292e+00, -4.03892269e-01, -1.38451867e+00,\n",
       "         1.36723542e+00,  1.21788563e+00, -4.62005348e-01,\n",
       "         3.50888494e-01],\n",
       "       [ 3.81866234e-01,  5.66275441e-01,  2.04207979e-01,\n",
       "         1.40669624e+00, -1.73795950e+00,  1.04082395e+00,\n",
       "         3.80471970e-01, -2.17135269e-01,  1.17353150e+00,\n",
       "        -2.34360319e+00]])"
      ]
     },
     "execution_count": 147,
     "metadata": {},
     "output_type": "execute_result"
    }
   ],
   "source": [
    "np.random.seed(2) #Configuration setup - to pick the same set of samples everytime.\n",
    "\n",
    "random_num_norm_dist = np.random.randn(10,10)\n",
    "random_num_norm_dist"
   ]
  },
  {
   "cell_type": "code",
   "execution_count": 148,
   "id": "0d9b1dd9",
   "metadata": {},
   "outputs": [
    {
     "data": {
      "image/png": "[encoded data removed]",
      "text/plain": [
       "<Figure size 432x288 with 1 Axes>"
      ]
     },
     "metadata": {
      "needs_background": "light"
     },
     "output_type": "display_data"
    }
   ],
   "source": [
    "plt.hist(random_num_norm_dist)\n",
    "plt.show()"
   ]
  },
  {
   "cell_type": "markdown",
   "id": "0f253c10",
   "metadata": {},
   "source": [
    "### NORMAL DISTRIBUTION\n",
    "\n",
    "It follows an empirical rule:\n",
    "\n",
    "* 68% of the datapoints should fall between 1SD.(ie, -1SD to +1SD)\n",
    "* 95% of the datapoints should fall between 2SD.(ie, -2SD to +2SD)\n",
    "* 99.99% of the datapoints should fall between 3SD(ie, -3SD to +3SD)\n",
    "\n",
    "Remaining points are Outliers."
   ]
  },
  {
   "cell_type": "markdown",
   "id": "8c0ec1db",
   "metadata": {},
   "source": [
    "#### Explore \n",
    "\n",
    "* Numpy  - 'where' function, \n",
    "* Pandas - to_numeric function\n",
    "* Pandas - query function, aggregation function"
   ]
  }
 ],
 "metadata": {
  "kernelspec": {
   "display_name": "Python 3",
   "language": "python",
   "name": "python3"
  },
  "language_info": {
   "codemirror_mode": {
    "name": "ipython",
    "version": 3
   },
   "file_extension": ".py",
   "mimetype": "text/x-python",
   "name": "python",
   "nbconvert_exporter": "python",
   "pygments_lexer": "ipython3",
   "version": "3.8.8"
  }
 },
 "nbformat": 4,
 "nbformat_minor": 5
}
